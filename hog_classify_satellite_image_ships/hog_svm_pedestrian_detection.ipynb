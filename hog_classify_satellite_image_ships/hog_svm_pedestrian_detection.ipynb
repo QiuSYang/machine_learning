{
 "cells": [
  {
   "cell_type": "markdown",
   "metadata": {},
   "source": [
    "# 使用opencv检测人"
   ]
  },
  {
   "cell_type": "markdown",
   "metadata": {},
   "source": [
    "# 注意事项：\n"
   ]
  },
  {
   "cell_type": "markdown",
   "metadata": {},
   "source": [
    "在训练的时候，我们的正负样本图像默认大小都应该是128×64的，然后提取样本图像的HOG特征，也就是3780维度的特征向量，送入到SVM进行训练，最终的目的就是得到这3781维度的检测器。\n",
    "\n",
    "在测试的时，检测窗口(大小为128×64)在整个图像的所有位置和尺度上进行扫描，然后提取提取每一个窗口的HOG特征，送入检测器进行判别，最后还需要对输出的金字塔进行非极大值抑制。例如：这里有张图是720×475的，我们选200×100大小的patch，把这个patch从图片里面抠出来，然后再把大小调整成128×64，计算HOG特征，并送入检测器判别是否包含目标。"
   ]
  },
  {
   "cell_type": "code",
   "execution_count": 3,
   "metadata": {},
   "outputs": [],
   "source": [
    "'''\n",
    "HOG检测人\n",
    "'''\n",
    "import  cv2\n",
    "import numpy as np"
   ]
  },
  {
   "cell_type": "code",
   "execution_count": 4,
   "metadata": {},
   "outputs": [],
   "source": [
    "def is_inside(o,i):\n",
    "    '''\n",
    "    判断矩形o是不是在i矩形中\n",
    "    \n",
    "    args:\n",
    "        o：矩形o  (x,y,w,h)\n",
    "        i：矩形i  (x,y,w,h)\n",
    "    '''\n",
    "    ox,oy,ow,oh = o\n",
    "    ix,iy,iw,ih = i\n",
    "    \n",
    "    return ox > ix and oy > iy and ox+ow < ix+iw and oy+oh < iy+ih"
   ]
  },
  {
   "cell_type": "code",
   "execution_count": 5,
   "metadata": {},
   "outputs": [],
   "source": [
    "def draw_person(img,person):\n",
    "    '''\n",
    "    在img图像上绘制矩形框person\n",
    "    \n",
    "    args:\n",
    "        img：图像img\n",
    "        person：人所在的边框位置 (x,y,w,h)\n",
    "    '''\n",
    "    x,y,w,h = person\n",
    "    cv2.rectangle(img,(x,y),(x+w,y+h),(0,255,255),2)"
   ]
  },
  {
   "cell_type": "code",
   "execution_count": 6,
   "metadata": {},
   "outputs": [],
   "source": [
    "def detect_test(image_path):\n",
    "    '''\n",
    "    检测人\n",
    "    '''\n",
    "    img = cv2.imread(image_path)\n",
    "    rows,cols = img.shape[:2]\n",
    "    sacle = 1.0\n",
    "    #print('img',img.shape)\n",
    "    img = cv2.resize(img,dsize=(int(cols*sacle),int(rows*sacle)))\n",
    "    #print('img',img.shape)\n",
    "    \n",
    "    #创建HOG描述符对象\n",
    "    #计算一个检测窗口特征向量维度：(64/8 - 1)*(128/8 - 1)*4*9 = 3780\n",
    "    '''\n",
    "    winSize = (64,128)\n",
    "    blockSize = (16,16)    \n",
    "    blockStride = (8,8)\n",
    "    cellSize = (8,8)\n",
    "    nbins = 9    \n",
    "    hog = cv2.HOGDescriptor(winSize,blockSize,blockStride,cellSize,nbins)  \n",
    "    '''\n",
    "    hog = cv2.HOGDescriptor()  \n",
    "    #hist = hog.compute(img[0:128,0:64])   计算一个检测窗口的维度\n",
    "    #print(hist.shape)\n",
    "    detector = cv2.HOGDescriptor_getDefaultPeopleDetector()\n",
    "    print('detector',type(detector),detector.shape)    \n",
    "    hog.setSVMDetector(detector)\n",
    "\n",
    "    \n",
    "    \n",
    "    #多尺度检测，found是一个数组，每一个元素都是对应一个矩形，即检测到的目标框\n",
    "    found,w = hog.detectMultiScale(img)\n",
    "    print('found',type(found),found.shape)\n",
    "    \n",
    "    #过滤一些矩形，如果矩形o在矩形i中，则过滤掉o\n",
    "    found_filtered = []\n",
    "    for ri,r in enumerate(found):\n",
    "        for qi,q in enumerate(found):\n",
    "            #r在q内？\n",
    "            if ri != qi and is_inside(r,q):\n",
    "                break\n",
    "        else:\n",
    "            found_filtered.append(r)\n",
    "            \n",
    "    for person in found_filtered:\n",
    "        draw_person(img,person)\n",
    "        \n",
    "    cv2.imshow('img',img)\n",
    "    cv2.waitKey(0)\n",
    "    cv2.destroyAllWindows()"
   ]
  },
  {
   "cell_type": "code",
   "execution_count": 7,
   "metadata": {},
   "outputs": [
    {
     "name": "stdout",
     "output_type": "stream",
     "text": [
      "detector <class 'numpy.ndarray'> (3781, 1)\n",
      "found <class 'numpy.ndarray'> (6, 4)\n"
     ]
    }
   ],
   "source": [
    "image_path = 'person.jpg'\n",
    "detect_test(image_path)"
   ]
  },
  {
   "cell_type": "code",
   "execution_count": null,
   "metadata": {},
   "outputs": [],
   "source": []
  }
 ],
 "metadata": {
  "kernelspec": {
   "display_name": "Python 3.6.9 64-bit ('TF2': conda)",
   "language": "python",
   "name": "python36964bittf2condabb5e8804759547bbb0b8b22765ded733"
  },
  "language_info": {
   "codemirror_mode": {
    "name": "ipython",
    "version": 3
   },
   "file_extension": ".py",
   "mimetype": "text/x-python",
   "name": "python",
   "nbconvert_exporter": "python",
   "pygments_lexer": "ipython3",
   "version": "3.6.9"
  }
 },
 "nbformat": 4,
 "nbformat_minor": 2
}
